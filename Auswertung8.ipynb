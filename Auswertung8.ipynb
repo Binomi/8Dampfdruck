{
 "metadata": {
  "name": "",
  "signature": "sha256:0c4b260c487fde3fe892c11b2df0c246e33eec1232073dd146d0df89aa53d77c"
 },
 "nbformat": 3,
 "nbformat_minor": 0,
 "worksheets": [
  {
   "cells": [
    {
     "cell_type": "code",
     "collapsed": false,
     "input": [
      "import math\n",
      "import maabara as ma\n",
      "from uncertainties import ufloat\n",
      "import numpy as np\n",
      "import matplotlib.pyplot as plt\n",
      "import matplotlib.animation as animation"
     ],
     "language": "python",
     "metadata": {},
     "outputs": [],
     "prompt_number": 1
    },
    {
     "cell_type": "code",
     "collapsed": false,
     "input": [
      "#Felix Kurtz und Michael Lohmann\n",
      "#Dampfdruck - Versuch Nr 5 - 23.6.14\n",
      "R_0=1000 #Ohm\n",
      "A=3.9083e-3 #\u00b0C^-1\n",
      "B=-5.775e-7 #\u00b0C^-2\n",
      "aussendruck=[1017.0,0.05]#hPa\n",
      "aussentemp=[24.9,0.05]#\u00b0C\n",
      "aufwaermen=[[0,1095],[1,1330],[2,1403],[3,1460],[4,1505],[5,1537],[6,1568],[7,1590],[8,1606],[9,1626],[10,1644],\\\n",
      "            [11,1657],[12,1674],[13,1690],[14,1705],[15,1718],[16,1729],[17,1738],[18,1749],[19,1760],[20,1771],\\\n",
      "            [21,1781],[22,1789],[23,1798],[24,1804],[25,1812],[26,1821],[27,1830],[28,1838],[29,1845],[30,1850],\\\n",
      "            [31,1857],[32,1862],[33,1870],[34,1875],[35,1881],[36,1887],[37,1892],[38,1898]]#[bar,Ohm]\n",
      "abkuehlen=[[2,1440],[3,1496],[4,1535],[5,1570],[6,1598],[7,1618],[8,1640],[9,1658],[10,1675],\\\n",
      "           [11,1690],[12,1705],[13,1718],[14,1731],[15,1744],[16,1753],[17,1765],[18,1777],[19,1787],[20,1797],\\\n",
      "           [21,1808],[22,1816],[23,1822],[24,1830],[25,1838],[26,1847],[27,1854],[28,1862],[29,1869],[30,1875],\\\n",
      "           [31,1880],[32,1884],[33,1890],[34,1895],[35,1899],[36,1903],[37,1905],[38,1907]]#[bar,Ohm]\n",
      "\n",
      "#Unsicherheiten:\n",
      "#Druck:\n",
      "deltaP = 0.1*10**5 #Pa\n",
      "#Wiederstand: \n",
      "deltaR = 2 #Ohm\n",
      "\n",
      "messdaten=[aufwaermen,abkuehlen]"
     ],
     "language": "python",
     "metadata": {},
     "outputs": [],
     "prompt_number": 2
    },
    {
     "cell_type": "code",
     "collapsed": false,
     "input": [
      "for k in range(len(messdaten)):\n",
      "    fobj = open(\"messung\"+str(k+1)+\".dat\", \"w\") \n",
      "    fobj.write(\"#Temp \\t Druck \\t DeltaTemp \\t DeltaP \\n\") \n",
      "    for i in range(len(messdaten[k])): \n",
      "        p = messdaten[k][i][0]*10**5\n",
      "        r = float(messdaten[k][i][1])/float(R_0)\n",
      "        T = -A/(2*B)-math.sqrt((A/(2*B))**2-(1-r)/B)\n",
      "        deltaT=0.3+0.005*T\n",
      "        #print T\n",
      "        fobj.write(str(T+273.15) + \"\\t\" + str(p) + \"\\t\" + str(deltaT) + \"\\t\" + str(deltaP)+ \"\\n\") \n",
      "    fobj.close()"
     ],
     "language": "python",
     "metadata": {},
     "outputs": [],
     "prompt_number": 3
    },
    {
     "cell_type": "code",
     "collapsed": false,
     "input": [],
     "language": "python",
     "metadata": {},
     "outputs": [],
     "prompt_number": 3
    }
   ],
   "metadata": {}
  }
 ]
}