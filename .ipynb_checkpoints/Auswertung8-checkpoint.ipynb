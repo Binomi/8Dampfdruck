{
 "metadata": {
  "name": "",
  "signature": "sha256:2764915d1584775d3abd9e9a9a3d4282a2b754e84ad7ab2b7b41ed8af0b9bdf5"
 },
 "nbformat": 3,
 "nbformat_minor": 0,
 "worksheets": [
  {
   "cells": [
    {
     "cell_type": "code",
     "collapsed": false,
     "input": [
      "import math\n",
      "#import maabara as ma\n",
      "#from uncertainties import ufloat\n",
      "import numpy as np\n",
      "import matplotlib.pyplot as plt\n",
      "import matplotlib.animation as animation"
     ],
     "language": "python",
     "metadata": {},
     "outputs": [],
     "prompt_number": 1
    },
    {
     "cell_type": "code",
     "collapsed": false,
     "input": [
      "#Felix Kurtz und Michael Lohmann\n",
      "#Dampfdruck - Versuch Nr 5 - 23.6.14\n",
      "R_0=1000 #Ohm\n",
      "A=3.9083e-3 #\u00b0C^-1\n",
      "B=-5.775e-7 #\u00b0C^-2\n",
      "aussendruck=[1017.0,0.05]#hPa\n",
      "aussentemp=[24.9,0.05]#\u00b0C\n",
      "aufwaermen=[[0,1095],[1,1330],[2,1403],[3,1460],[4,1505],[5,1537],[6,1568],[7,1590],[8,1606],[9,1626],[10,1644],\\\n",
      "            [11,1657],[12,1674],[13,1690],[14,1705],[15,1718],[16,1729],[17,1738],[18,1749],[19,1760],[20,1771],\\\n",
      "            [21,1781],[22,1789],[23,1798],[24,1804],[25,1812],[26,1821],[27,1830],[28,1838],[29,1845],[30,1850],\\\n",
      "            [31,1857],[32,1862],[33,1870],[34,1875],[35,1881],[36,1887],[37,1892],[38,1898],[\"\",\"\"]]#[bar,Ohm]\n",
      "abkuehlen=[[0,\"\"],[1,\"\"],[2,1440],[3,1496],[4,1535],[5,1570],[6,1598],[7,1618],[8,1640],[9,1658],[10,1675],\\\n",
      "           [11,1690],[12,1705],[13,1718],[14,1731],[15,1744],[16,1753],[17,1765],[18,1777],[19,1787],[20,1797],\\\n",
      "           [21,1808],[22,1816],[23,1822],[24,1830],[25,1838],[26,1847],[27,1854],[28,1862],[29,1869],[30,1875],\\\n",
      "           [31,1880],[32,1884],[33,1890],[34,1895],[35,1899],[36,1903],[37,1905],[38,1907],[\"\",\"\"]]#[bar,Ohm]\n",
      "\n",
      "#Unsicherheiten:\n",
      "#Druck:\n",
      "deltaP = 0.1*10**5 #Pa\n",
      "#Wiederstand: \n",
      "deltaR = 2 #Ohm\n",
      "\n",
      "messdaten=[aufwaermen,abkuehlen]"
     ],
     "language": "python",
     "metadata": {},
     "outputs": [
      {
       "output_type": "stream",
       "stream": "stdout",
       "text": [
        "\n"
       ]
      }
     ],
     "prompt_number": 17
    },
    {
     "cell_type": "code",
     "collapsed": false,
     "input": [
      "p0=aussendruck[0]*100#Pa\n",
      "for k in range(len(messdaten)):\n",
      "    fobj = open(\"messung\"+str(k+1)+\".dat\", \"w\") \n",
      "    fobj.write(\"#Temp \\t p/p0 \\t DeltaTemp \\t DeltaP/p0 \\n\") \n",
      "    for i in range(len(messdaten[k])): \n",
      "        p = messdaten[k][i][0]*10**5\n",
      "        r = float(messdaten[k][i][1])/float(R_0)\n",
      "        T = -A/(2*B)-math.sqrt((A/(2*B))**2-(1-r)/B)\n",
      "        deltaT=0.3+0.005*T\n",
      "        #print T\n",
      "        fobj.write(str(T+273.15) + \"\\t\" + str(p/p0) + \"\\t\" + str(deltaT) + \"\\t\" + str(deltaP/p0)+ \"\\n\") \n",
      "    fobj.close()"
     ],
     "language": "python",
     "metadata": {},
     "outputs": [],
     "prompt_number": 10
    },
    {
     "cell_type": "code",
     "collapsed": false,
     "input": [
      "y = len(aufwaermen)/2\n",
      "for i in range(y):\n",
      "    print aufwaermen[i][0], \"&\", aufwaermen[i][1], \"&\", abkuehlen[i][1], \"&\", aufwaermen[i+y][0], \"&\", aufwaermen[i+y][1], \"&\", abkuehlen[i+y][1], \"\\\\\\\\\""
     ],
     "language": "python",
     "metadata": {},
     "outputs": [
      {
       "output_type": "stream",
       "stream": "stdout",
       "text": [
        "0 & 1095 &  & 20 & 1771 & 1797 \\\\\n",
        "1 & 1330 &  & 21 & 1781 & 1808 \\\\\n",
        "2 & 1403 & 1440 & 22 & 1789 & 1816 \\\\\n",
        "3 & 1460 & 1496 & 23 & 1798 & 1822 \\\\\n",
        "4 & 1505 & 1535 & 24 & 1804 & 1830 \\\\\n",
        "5 & 1537 & 1570 & 25 & 1812 & 1838 \\\\\n",
        "6 & 1568 & 1598 & 26 & 1821 & 1847 \\\\\n",
        "7 & 1590 & 1618 & 27 & 1830 & 1854 \\\\\n",
        "8 & 1606 & 1640 & 28 & 1838 & 1862 \\\\\n",
        "9 & 1626 & 1658 & 29 & 1845 & 1869 \\\\\n",
        "10 & 1644 & 1675 & 30 & 1850 & 1875 \\\\\n",
        "11 & 1657 & 1690 & 31 & 1857 & 1880 \\\\\n",
        "12 & 1674 & 1705 & 32 & 1862 & 1884 \\\\\n",
        "13 & 1690 & 1718 & 33 & 1870 & 1890 \\\\\n",
        "14 & 1705 & 1731 & 34 & 1875 & 1895 \\\\\n",
        "15 & 1718 & 1744 & 35 & 1881 & 1899 \\\\\n",
        "16 & 1729 & 1753 & 36 & 1887 & 1903 \\\\\n",
        "17 & 1738 & 1765 & 37 & 1892 & 1905 \\\\\n",
        "18 & 1749 & 1777 & 38 & 1898 & 1907 \\\\\n",
        "19 & 1760 & 1787 &  &  &  \\\\\n"
       ]
      }
     ],
     "prompt_number": 18
    },
    {
     "cell_type": "code",
     "collapsed": false,
     "input": [],
     "language": "python",
     "metadata": {},
     "outputs": []
    }
   ],
   "metadata": {}
  }
 ]
}